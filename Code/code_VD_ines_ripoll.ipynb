{
  "nbformat": 4,
  "nbformat_minor": 0,
  "metadata": {
    "colab": {
      "provenance": []
    },
    "kernelspec": {
      "name": "python3",
      "display_name": "Python 3"
    },
    "language_info": {
      "name": "python"
    }
  },
  "cells": [
    {
      "cell_type": "code",
      "source": [
        "# Librerías:\n",
        "import pandas as pd\n",
        "import pyreadstat\n",
        "import numpy as np\n",
        "\n",
        "# Preparación de los datos:\n",
        "# 1. Lectura dataset\n",
        "df, meta = pyreadstat.read_sav(\"GEM 2021 NES GLOBAL INDIVIDUAL LEVEL NATIONS.sav\")\n",
        "\n",
        "# 2. Diccionario de etiquetas de valores\n",
        "value_labels = meta.value_labels  # {'label_name': {code: label, ...}, ...}\n",
        "\n",
        "# 3. Aplica mapeo solo a columnas con etiquetas y tipo entero (categóricas)\n",
        "# Lista de columnas a categoricas a mapear\n",
        "cols_a_mapear = ['NES_COUNTRY', 'NES_GENDER', 'NES_EDU', 'NES_PSPE', 'NES21_A09', 'NES21_A10']\n",
        "\n",
        "for col in cols_a_mapear:\n",
        "    if col in df.columns and col in meta.variable_to_label:\n",
        "        label_name = meta.variable_to_label[col]\n",
        "        if label_name in value_labels:\n",
        "            df[col] = df[col].map(value_labels[label_name])\n",
        "\n",
        "print(df.head())\n",
        "\n",
        "# 2. Limpieza y formato\n",
        "# Convertir fechas\n",
        "df['END_DATE'] = pd.to_datetime(df['END_DATE'], errors='coerce')\n",
        "\n",
        "# Dado que en los datasets GEM, los valores faltantes se codifican como ??????????, vamos a tratarlo:\n",
        "# Reemplaza por NaN cualquier valor que contenga al menos un \"?\"\n",
        "df['NES_PSPE'] = df['NES_PSPE'].apply(lambda x: np.nan if isinstance(x, str) and '?' in x else x)\n",
        "\n",
        "# Eliminar columnas completamente vacías\n",
        "df.dropna(axis=1, how='all', inplace=True)\n",
        "\n",
        "# Eliminar filas sin país ni género o con errores de entrada evidentes\n",
        "df = df[df['NES_COUNTRY'].notna()]\n",
        "df = df[df['NES_GENDER'].notna()]\n",
        "df = df[df['NES_AGE'].notna()]\n",
        "\n",
        "# Paremitrización Age\n",
        "df['NES_AGE'] = df['NES_AGE'] / 10\n",
        "\n",
        "# 3. Selección de variables clave (seleccionadas en la práctica I)\n",
        "vars_clave = [\n",
        "    'NES_COUNTRY', 'NES_GENDER', 'NES_AGE', 'NES_EDU', 'NES_PSPE',\n",
        "    'NES21_A04', 'NES21_A05', 'NES21_A06', 'NES21_A08', 'NES21_A03',\n",
        "    'NES21_A09', 'NES21_A10', 'NES21_A02', 'NES21_A07'\n",
        "]\n",
        "\n",
        "df_sub = df[vars_clave].copy()\n",
        "\n",
        "# Renombramos para mayor claridad\n",
        "df_sub.rename(columns={\n",
        "    'NES_COUNTRY' : 'Country',\n",
        "    'NES_GENDER': 'Gender',\n",
        "    'NES_AGE': 'Age',\n",
        "    'NES_EDU': 'EducationLevel',\n",
        "    'NES_PSPE': 'IncomeLevel',\n",
        "    'NES21_A04': 'SelfPerceivedCapability',\n",
        "    'NES21_A05': 'FearOfFailure',\n",
        "    'NES21_A06': 'EntrepreneurEducation',\n",
        "    'NES21_A08': 'AccessToFinance',\n",
        "    'NES21_A03': 'PerceivedOpportunities',\n",
        "    'NES21_A09': 'OpportunityMotivation',\n",
        "    'NES21_A10': 'NecessityMotivation',\n",
        "    'NES21_A02': 'KnowsEntrepreneurs',\n",
        "    'NES21_A07': 'MediaAttention'\n",
        "}, inplace=True)\n",
        "\n",
        "# Convertir a numérico por si hay strings o NaNs\n",
        "binary_vars = [\n",
        "    'SelfPerceivedCapability', 'FearOfFailure', 'EntrepreneurEducation',\n",
        "    'AccessToFinance', 'PerceivedOpportunities', 'KnowsEntrepreneurs', 'MediaAttention'\n",
        "]\n",
        "df_sub[binary_vars] = df_sub[binary_vars].apply(pd.to_numeric, errors='coerce')\n",
        "\n",
        "# 4. Creación del índice de ecosistema emprendedor (IEE)\n",
        "df_sub['IEE'] = df_sub[binary_vars].sum(axis=1) / len(binary_vars) * 100\n",
        "\n",
        "def clasificar_emprendedor(row):\n",
        "    if pd.notna(row['OpportunityMotivation']):\n",
        "        return 'Por oportunidad'\n",
        "    elif pd.notna(row['NecessityMotivation']):\n",
        "        return 'Por necesidad'\n",
        "    else:\n",
        "        return 'No emprendedor'\n",
        "\n",
        "df_sub['TipoEmprendedor'] = df_sub.apply(clasificar_emprendedor, axis=1)\n",
        "\n",
        "# 5. Exportar para visualización\n",
        "df_sub.to_csv(\"datos_preparados_GEM.csv\", index=False)"
      ],
      "metadata": {
        "colab": {
          "base_uri": "https://localhost:8080/",
          "height": 384
        },
        "id": "geoIpTAPFWXv",
        "outputId": "c71120ac-f426-4c5a-e8cb-5b2ce3198c66"
      },
      "execution_count": 1,
      "outputs": [
        {
          "output_type": "error",
          "ename": "ModuleNotFoundError",
          "evalue": "No module named 'pyreadstat'",
          "traceback": [
            "\u001b[0;31m---------------------------------------------------------------------------\u001b[0m",
            "\u001b[0;31mModuleNotFoundError\u001b[0m                       Traceback (most recent call last)",
            "\u001b[0;32m<ipython-input-1-4b77491eb71c>\u001b[0m in \u001b[0;36m<cell line: 0>\u001b[0;34m()\u001b[0m\n\u001b[1;32m      1\u001b[0m \u001b[0;31m# Librerías:\u001b[0m\u001b[0;34m\u001b[0m\u001b[0;34m\u001b[0m\u001b[0m\n\u001b[1;32m      2\u001b[0m \u001b[0;32mimport\u001b[0m \u001b[0mpandas\u001b[0m \u001b[0;32mas\u001b[0m \u001b[0mpd\u001b[0m\u001b[0;34m\u001b[0m\u001b[0;34m\u001b[0m\u001b[0m\n\u001b[0;32m----> 3\u001b[0;31m \u001b[0;32mimport\u001b[0m \u001b[0mpyreadstat\u001b[0m\u001b[0;34m\u001b[0m\u001b[0;34m\u001b[0m\u001b[0m\n\u001b[0m\u001b[1;32m      4\u001b[0m \u001b[0;32mimport\u001b[0m \u001b[0mnumpy\u001b[0m \u001b[0;32mas\u001b[0m \u001b[0mnp\u001b[0m\u001b[0;34m\u001b[0m\u001b[0;34m\u001b[0m\u001b[0m\n\u001b[1;32m      5\u001b[0m \u001b[0;34m\u001b[0m\u001b[0m\n",
            "\u001b[0;31mModuleNotFoundError\u001b[0m: No module named 'pyreadstat'",
            "",
            "\u001b[0;31m---------------------------------------------------------------------------\u001b[0;32m\nNOTE: If your import is failing due to a missing package, you can\nmanually install dependencies using either !pip or !apt.\n\nTo view examples of installing some common dependencies, click the\n\"Open Examples\" button below.\n\u001b[0;31m---------------------------------------------------------------------------\u001b[0m\n"
          ],
          "errorDetails": {
            "actions": [
              {
                "action": "open_url",
                "actionText": "Open Examples",
                "url": "/notebooks/snippets/importing_libraries.ipynb"
              }
            ]
          }
        }
      ]
    }
  ]
}
